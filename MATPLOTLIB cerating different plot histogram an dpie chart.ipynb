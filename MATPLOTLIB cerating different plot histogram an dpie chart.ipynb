{
 "cells": [
  {
   "cell_type": "code",
   "execution_count": 2,
   "id": "cbc8e961",
   "metadata": {},
   "outputs": [],
   "source": [
    "import numpy as np \n",
    "import pandas as pd \n",
    "import matplotlib.pyplot as plt\n",
    "import warnings\n",
    "warnings.filterwarnings(\"ignore\")"
   ]
  },
  {
   "cell_type": "code",
   "execution_count": 3,
   "id": "148830a0",
   "metadata": {},
   "outputs": [
    {
     "name": "stdout",
     "output_type": "stream",
     "text": [
      "<class 'pandas.core.frame.DataFrame'>\n"
     ]
    },
    {
     "data": {
      "text/html": [
       "<div>\n",
       "<style scoped>\n",
       "    .dataframe tbody tr th:only-of-type {\n",
       "        vertical-align: middle;\n",
       "    }\n",
       "\n",
       "    .dataframe tbody tr th {\n",
       "        vertical-align: top;\n",
       "    }\n",
       "\n",
       "    .dataframe thead th {\n",
       "        text-align: right;\n",
       "    }\n",
       "</style>\n",
       "<table border=\"1\" class=\"dataframe\">\n",
       "  <thead>\n",
       "    <tr style=\"text-align: right;\">\n",
       "      <th></th>\n",
       "      <th>Title</th>\n",
       "      <th>title_year</th>\n",
       "      <th>budget</th>\n",
       "      <th>Gross</th>\n",
       "      <th>actor_1_name</th>\n",
       "      <th>actor_2_name</th>\n",
       "      <th>actor_3_name</th>\n",
       "      <th>actor_1_facebook_likes</th>\n",
       "      <th>actor_2_facebook_likes</th>\n",
       "      <th>actor_3_facebook_likes</th>\n",
       "      <th>...</th>\n",
       "      <th>Votes3044M</th>\n",
       "      <th>Votes3044F</th>\n",
       "      <th>Votes45A</th>\n",
       "      <th>Votes45AM</th>\n",
       "      <th>Votes45AF</th>\n",
       "      <th>Votes1000</th>\n",
       "      <th>VotesUS</th>\n",
       "      <th>VotesnUS</th>\n",
       "      <th>content_rating</th>\n",
       "      <th>Country</th>\n",
       "    </tr>\n",
       "  </thead>\n",
       "  <tbody>\n",
       "    <tr>\n",
       "      <th>0</th>\n",
       "      <td>La La Land</td>\n",
       "      <td>2016</td>\n",
       "      <td>30000000</td>\n",
       "      <td>151101803</td>\n",
       "      <td>Ryan Gosling</td>\n",
       "      <td>Emma Stone</td>\n",
       "      <td>Amiée Conn</td>\n",
       "      <td>14000</td>\n",
       "      <td>19000.0</td>\n",
       "      <td>NaN</td>\n",
       "      <td>...</td>\n",
       "      <td>7.9</td>\n",
       "      <td>7.8</td>\n",
       "      <td>7.6</td>\n",
       "      <td>7.6</td>\n",
       "      <td>7.5</td>\n",
       "      <td>7.1</td>\n",
       "      <td>8.3</td>\n",
       "      <td>8.1</td>\n",
       "      <td>PG-13</td>\n",
       "      <td>USA</td>\n",
       "    </tr>\n",
       "    <tr>\n",
       "      <th>1</th>\n",
       "      <td>Zootopia</td>\n",
       "      <td>2016</td>\n",
       "      <td>150000000</td>\n",
       "      <td>341268248</td>\n",
       "      <td>Ginnifer Goodwin</td>\n",
       "      <td>Jason Bateman</td>\n",
       "      <td>Idris Elba</td>\n",
       "      <td>2800</td>\n",
       "      <td>28000.0</td>\n",
       "      <td>27000.0</td>\n",
       "      <td>...</td>\n",
       "      <td>7.8</td>\n",
       "      <td>8.1</td>\n",
       "      <td>7.8</td>\n",
       "      <td>7.8</td>\n",
       "      <td>8.1</td>\n",
       "      <td>7.6</td>\n",
       "      <td>8.0</td>\n",
       "      <td>8.0</td>\n",
       "      <td>PG</td>\n",
       "      <td>USA</td>\n",
       "    </tr>\n",
       "    <tr>\n",
       "      <th>2</th>\n",
       "      <td>Lion</td>\n",
       "      <td>2016</td>\n",
       "      <td>12000000</td>\n",
       "      <td>51738905</td>\n",
       "      <td>Dev Patel</td>\n",
       "      <td>Nicole Kidman</td>\n",
       "      <td>Rooney Mara</td>\n",
       "      <td>33000</td>\n",
       "      <td>96000.0</td>\n",
       "      <td>9800.0</td>\n",
       "      <td>...</td>\n",
       "      <td>7.9</td>\n",
       "      <td>8.2</td>\n",
       "      <td>8.0</td>\n",
       "      <td>7.9</td>\n",
       "      <td>8.4</td>\n",
       "      <td>7.1</td>\n",
       "      <td>8.1</td>\n",
       "      <td>8.0</td>\n",
       "      <td>PG-13</td>\n",
       "      <td>Australia</td>\n",
       "    </tr>\n",
       "    <tr>\n",
       "      <th>3</th>\n",
       "      <td>Arrival</td>\n",
       "      <td>2016</td>\n",
       "      <td>47000000</td>\n",
       "      <td>100546139</td>\n",
       "      <td>Amy Adams</td>\n",
       "      <td>Jeremy Renner</td>\n",
       "      <td>Forest Whitaker</td>\n",
       "      <td>35000</td>\n",
       "      <td>5300.0</td>\n",
       "      <td>NaN</td>\n",
       "      <td>...</td>\n",
       "      <td>7.8</td>\n",
       "      <td>7.8</td>\n",
       "      <td>7.6</td>\n",
       "      <td>7.6</td>\n",
       "      <td>7.7</td>\n",
       "      <td>7.3</td>\n",
       "      <td>8.0</td>\n",
       "      <td>7.9</td>\n",
       "      <td>PG-13</td>\n",
       "      <td>USA</td>\n",
       "    </tr>\n",
       "    <tr>\n",
       "      <th>4</th>\n",
       "      <td>Manchester by the Sea</td>\n",
       "      <td>2016</td>\n",
       "      <td>9000000</td>\n",
       "      <td>47695371</td>\n",
       "      <td>Casey Affleck</td>\n",
       "      <td>Michelle Williams</td>\n",
       "      <td>Kyle Chandler</td>\n",
       "      <td>518</td>\n",
       "      <td>71000.0</td>\n",
       "      <td>3300.0</td>\n",
       "      <td>...</td>\n",
       "      <td>7.7</td>\n",
       "      <td>7.7</td>\n",
       "      <td>7.6</td>\n",
       "      <td>7.6</td>\n",
       "      <td>7.6</td>\n",
       "      <td>7.1</td>\n",
       "      <td>7.9</td>\n",
       "      <td>7.8</td>\n",
       "      <td>R</td>\n",
       "      <td>USA</td>\n",
       "    </tr>\n",
       "  </tbody>\n",
       "</table>\n",
       "<p>5 rows × 62 columns</p>\n",
       "</div>"
      ],
      "text/plain": [
       "                   Title  title_year     budget      Gross      actor_1_name  \\\n",
       "0             La La Land        2016   30000000  151101803      Ryan Gosling   \n",
       "1               Zootopia        2016  150000000  341268248  Ginnifer Goodwin   \n",
       "2                   Lion        2016   12000000   51738905         Dev Patel   \n",
       "3                Arrival        2016   47000000  100546139         Amy Adams   \n",
       "4  Manchester by the Sea        2016    9000000   47695371     Casey Affleck   \n",
       "\n",
       "         actor_2_name     actor_3_name  actor_1_facebook_likes  \\\n",
       "0          Emma Stone       Amiée Conn                   14000   \n",
       "1       Jason Bateman       Idris Elba                    2800   \n",
       "2       Nicole Kidman      Rooney Mara                   33000   \n",
       "3       Jeremy Renner  Forest Whitaker                   35000   \n",
       "4  Michelle Williams     Kyle Chandler                     518   \n",
       "\n",
       "   actor_2_facebook_likes  actor_3_facebook_likes  ...  Votes3044M Votes3044F  \\\n",
       "0                 19000.0                     NaN  ...         7.9        7.8   \n",
       "1                 28000.0                 27000.0  ...         7.8        8.1   \n",
       "2                 96000.0                  9800.0  ...         7.9        8.2   \n",
       "3                  5300.0                     NaN  ...         7.8        7.8   \n",
       "4                 71000.0                  3300.0  ...         7.7        7.7   \n",
       "\n",
       "  Votes45A Votes45AM  Votes45AF  Votes1000  VotesUS  VotesnUS  content_rating  \\\n",
       "0      7.6       7.6        7.5        7.1      8.3       8.1           PG-13   \n",
       "1      7.8       7.8        8.1        7.6      8.0       8.0              PG   \n",
       "2      8.0       7.9        8.4        7.1      8.1       8.0           PG-13   \n",
       "3      7.6       7.6        7.7        7.3      8.0       7.9           PG-13   \n",
       "4      7.6       7.6        7.6        7.1      7.9       7.8               R   \n",
       "\n",
       "     Country  \n",
       "0        USA  \n",
       "1        USA  \n",
       "2  Australia  \n",
       "3        USA  \n",
       "4        USA  \n",
       "\n",
       "[5 rows x 62 columns]"
      ]
     },
     "execution_count": 3,
     "metadata": {},
     "output_type": "execute_result"
    }
   ],
   "source": [
    "df=pd.read_csv('imdb_movies.csv')\n",
    "print(type(df))\n",
    "df.head()"
   ]
  },
  {
   "cell_type": "code",
   "execution_count": 4,
   "id": "a762fbf9",
   "metadata": {},
   "outputs": [
    {
     "data": {
      "text/plain": [
       "(100, 62)"
      ]
     },
     "execution_count": 4,
     "metadata": {},
     "output_type": "execute_result"
    }
   ],
   "source": [
    "df.shape"
   ]
  },
  {
   "cell_type": "code",
   "execution_count": 6,
   "id": "d7c09317",
   "metadata": {},
   "outputs": [
    {
     "name": "stdout",
     "output_type": "stream",
     "text": [
      "Index(['Title', 'title_year', 'budget', 'Gross', 'actor_1_name',\n",
      "       'actor_2_name', 'actor_3_name', 'actor_1_facebook_likes',\n",
      "       'actor_2_facebook_likes', 'actor_3_facebook_likes', 'IMDb_rating',\n",
      "       'genre_1', 'genre_2', 'genre_3', 'MetaCritic', 'Runtime',\n",
      "       'content_rating', 'Country'],\n",
      "      dtype='object')\n",
      "62\n"
     ]
    }
   ],
   "source": [
    "d1=df.iloc[:,[0,1,2,3,4,5,6,7,8,9,10,11,12,13,14,15,60,61]]\n",
    "print(d1.columns)\n",
    "print(len(df.columns))"
   ]
  },
  {
   "cell_type": "code",
   "execution_count": 7,
   "id": "79fcd197",
   "metadata": {},
   "outputs": [
    {
     "data": {
      "text/html": [
       "<div>\n",
       "<style scoped>\n",
       "    .dataframe tbody tr th:only-of-type {\n",
       "        vertical-align: middle;\n",
       "    }\n",
       "\n",
       "    .dataframe tbody tr th {\n",
       "        vertical-align: top;\n",
       "    }\n",
       "\n",
       "    .dataframe thead th {\n",
       "        text-align: right;\n",
       "    }\n",
       "</style>\n",
       "<table border=\"1\" class=\"dataframe\">\n",
       "  <thead>\n",
       "    <tr style=\"text-align: right;\">\n",
       "      <th></th>\n",
       "      <th>Title</th>\n",
       "      <th>title_year</th>\n",
       "      <th>budget</th>\n",
       "      <th>Gross</th>\n",
       "      <th>actor_1_name</th>\n",
       "      <th>actor_2_name</th>\n",
       "      <th>actor_3_name</th>\n",
       "      <th>actor_1_facebook_likes</th>\n",
       "      <th>actor_2_facebook_likes</th>\n",
       "      <th>actor_3_facebook_likes</th>\n",
       "      <th>IMDb_rating</th>\n",
       "      <th>genre_1</th>\n",
       "      <th>genre_2</th>\n",
       "      <th>genre_3</th>\n",
       "      <th>MetaCritic</th>\n",
       "      <th>Runtime</th>\n",
       "      <th>content_rating</th>\n",
       "      <th>Country</th>\n",
       "    </tr>\n",
       "  </thead>\n",
       "  <tbody>\n",
       "    <tr>\n",
       "      <th>0</th>\n",
       "      <td>La La Land</td>\n",
       "      <td>2016</td>\n",
       "      <td>30000000</td>\n",
       "      <td>151101803</td>\n",
       "      <td>Ryan Gosling</td>\n",
       "      <td>Emma Stone</td>\n",
       "      <td>Amiée Conn</td>\n",
       "      <td>14000</td>\n",
       "      <td>19000.0</td>\n",
       "      <td>NaN</td>\n",
       "      <td>8.2</td>\n",
       "      <td>Comedy</td>\n",
       "      <td>Drama</td>\n",
       "      <td>Music</td>\n",
       "      <td>93.0</td>\n",
       "      <td>128</td>\n",
       "      <td>PG-13</td>\n",
       "      <td>USA</td>\n",
       "    </tr>\n",
       "    <tr>\n",
       "      <th>1</th>\n",
       "      <td>Zootopia</td>\n",
       "      <td>2016</td>\n",
       "      <td>150000000</td>\n",
       "      <td>341268248</td>\n",
       "      <td>Ginnifer Goodwin</td>\n",
       "      <td>Jason Bateman</td>\n",
       "      <td>Idris Elba</td>\n",
       "      <td>2800</td>\n",
       "      <td>28000.0</td>\n",
       "      <td>27000.0</td>\n",
       "      <td>8.1</td>\n",
       "      <td>Animation</td>\n",
       "      <td>Adventure</td>\n",
       "      <td>Comedy</td>\n",
       "      <td>78.0</td>\n",
       "      <td>108</td>\n",
       "      <td>PG</td>\n",
       "      <td>USA</td>\n",
       "    </tr>\n",
       "    <tr>\n",
       "      <th>2</th>\n",
       "      <td>Lion</td>\n",
       "      <td>2016</td>\n",
       "      <td>12000000</td>\n",
       "      <td>51738905</td>\n",
       "      <td>Dev Patel</td>\n",
       "      <td>Nicole Kidman</td>\n",
       "      <td>Rooney Mara</td>\n",
       "      <td>33000</td>\n",
       "      <td>96000.0</td>\n",
       "      <td>9800.0</td>\n",
       "      <td>8.1</td>\n",
       "      <td>Biography</td>\n",
       "      <td>Drama</td>\n",
       "      <td>NaN</td>\n",
       "      <td>69.0</td>\n",
       "      <td>118</td>\n",
       "      <td>PG-13</td>\n",
       "      <td>Australia</td>\n",
       "    </tr>\n",
       "    <tr>\n",
       "      <th>3</th>\n",
       "      <td>Arrival</td>\n",
       "      <td>2016</td>\n",
       "      <td>47000000</td>\n",
       "      <td>100546139</td>\n",
       "      <td>Amy Adams</td>\n",
       "      <td>Jeremy Renner</td>\n",
       "      <td>Forest Whitaker</td>\n",
       "      <td>35000</td>\n",
       "      <td>5300.0</td>\n",
       "      <td>NaN</td>\n",
       "      <td>8.0</td>\n",
       "      <td>Drama</td>\n",
       "      <td>Mystery</td>\n",
       "      <td>Sci-Fi</td>\n",
       "      <td>81.0</td>\n",
       "      <td>116</td>\n",
       "      <td>PG-13</td>\n",
       "      <td>USA</td>\n",
       "    </tr>\n",
       "    <tr>\n",
       "      <th>4</th>\n",
       "      <td>Manchester by the Sea</td>\n",
       "      <td>2016</td>\n",
       "      <td>9000000</td>\n",
       "      <td>47695371</td>\n",
       "      <td>Casey Affleck</td>\n",
       "      <td>Michelle Williams</td>\n",
       "      <td>Kyle Chandler</td>\n",
       "      <td>518</td>\n",
       "      <td>71000.0</td>\n",
       "      <td>3300.0</td>\n",
       "      <td>7.9</td>\n",
       "      <td>Drama</td>\n",
       "      <td>NaN</td>\n",
       "      <td>NaN</td>\n",
       "      <td>96.0</td>\n",
       "      <td>137</td>\n",
       "      <td>R</td>\n",
       "      <td>USA</td>\n",
       "    </tr>\n",
       "  </tbody>\n",
       "</table>\n",
       "</div>"
      ],
      "text/plain": [
       "                   Title  title_year     budget      Gross      actor_1_name  \\\n",
       "0             La La Land        2016   30000000  151101803      Ryan Gosling   \n",
       "1               Zootopia        2016  150000000  341268248  Ginnifer Goodwin   \n",
       "2                   Lion        2016   12000000   51738905         Dev Patel   \n",
       "3                Arrival        2016   47000000  100546139         Amy Adams   \n",
       "4  Manchester by the Sea        2016    9000000   47695371     Casey Affleck   \n",
       "\n",
       "         actor_2_name     actor_3_name  actor_1_facebook_likes  \\\n",
       "0          Emma Stone       Amiée Conn                   14000   \n",
       "1       Jason Bateman       Idris Elba                    2800   \n",
       "2       Nicole Kidman      Rooney Mara                   33000   \n",
       "3       Jeremy Renner  Forest Whitaker                   35000   \n",
       "4  Michelle Williams     Kyle Chandler                     518   \n",
       "\n",
       "   actor_2_facebook_likes  actor_3_facebook_likes  IMDb_rating    genre_1  \\\n",
       "0                 19000.0                     NaN          8.2     Comedy   \n",
       "1                 28000.0                 27000.0          8.1  Animation   \n",
       "2                 96000.0                  9800.0          8.1  Biography   \n",
       "3                  5300.0                     NaN          8.0      Drama   \n",
       "4                 71000.0                  3300.0          7.9      Drama   \n",
       "\n",
       "     genre_2 genre_3  MetaCritic  Runtime content_rating    Country  \n",
       "0      Drama   Music        93.0      128          PG-13        USA  \n",
       "1  Adventure  Comedy        78.0      108             PG        USA  \n",
       "2      Drama     NaN        69.0      118          PG-13  Australia  \n",
       "3    Mystery  Sci-Fi        81.0      116          PG-13        USA  \n",
       "4        NaN     NaN        96.0      137              R        USA  "
      ]
     },
     "execution_count": 7,
     "metadata": {},
     "output_type": "execute_result"
    }
   ],
   "source": [
    "d1.head()"
   ]
  },
  {
   "cell_type": "code",
   "execution_count": 8,
   "id": "7a417c3e",
   "metadata": {},
   "outputs": [
    {
     "data": {
      "text/html": [
       "<div>\n",
       "<style scoped>\n",
       "    .dataframe tbody tr th:only-of-type {\n",
       "        vertical-align: middle;\n",
       "    }\n",
       "\n",
       "    .dataframe tbody tr th {\n",
       "        vertical-align: top;\n",
       "    }\n",
       "\n",
       "    .dataframe thead th {\n",
       "        text-align: right;\n",
       "    }\n",
       "</style>\n",
       "<table border=\"1\" class=\"dataframe\">\n",
       "  <thead>\n",
       "    <tr style=\"text-align: right;\">\n",
       "      <th></th>\n",
       "      <th>Title</th>\n",
       "      <th>title_year</th>\n",
       "      <th>budget</th>\n",
       "      <th>Gross</th>\n",
       "      <th>actor_1_name</th>\n",
       "      <th>actor_2_name</th>\n",
       "      <th>actor_3_name</th>\n",
       "      <th>actor_1_facebook_likes</th>\n",
       "      <th>actor_2_facebook_likes</th>\n",
       "      <th>actor_3_facebook_likes</th>\n",
       "      <th>IMDb_rating</th>\n",
       "      <th>genre_1</th>\n",
       "      <th>genre_2</th>\n",
       "      <th>genre_3</th>\n",
       "      <th>MetaCritic</th>\n",
       "      <th>Runtime</th>\n",
       "      <th>content_rating</th>\n",
       "      <th>Country</th>\n",
       "    </tr>\n",
       "  </thead>\n",
       "  <tbody>\n",
       "    <tr>\n",
       "      <th>0</th>\n",
       "      <td>La La Land</td>\n",
       "      <td>2016</td>\n",
       "      <td>30.0</td>\n",
       "      <td>151.101803</td>\n",
       "      <td>Ryan Gosling</td>\n",
       "      <td>Emma Stone</td>\n",
       "      <td>Amiée Conn</td>\n",
       "      <td>14000</td>\n",
       "      <td>19000.0</td>\n",
       "      <td>NaN</td>\n",
       "      <td>8.2</td>\n",
       "      <td>Comedy</td>\n",
       "      <td>Drama</td>\n",
       "      <td>Music</td>\n",
       "      <td>93.0</td>\n",
       "      <td>128</td>\n",
       "      <td>PG-13</td>\n",
       "      <td>USA</td>\n",
       "    </tr>\n",
       "    <tr>\n",
       "      <th>1</th>\n",
       "      <td>Zootopia</td>\n",
       "      <td>2016</td>\n",
       "      <td>150.0</td>\n",
       "      <td>341.268248</td>\n",
       "      <td>Ginnifer Goodwin</td>\n",
       "      <td>Jason Bateman</td>\n",
       "      <td>Idris Elba</td>\n",
       "      <td>2800</td>\n",
       "      <td>28000.0</td>\n",
       "      <td>27000.0</td>\n",
       "      <td>8.1</td>\n",
       "      <td>Animation</td>\n",
       "      <td>Adventure</td>\n",
       "      <td>Comedy</td>\n",
       "      <td>78.0</td>\n",
       "      <td>108</td>\n",
       "      <td>PG</td>\n",
       "      <td>USA</td>\n",
       "    </tr>\n",
       "    <tr>\n",
       "      <th>2</th>\n",
       "      <td>Lion</td>\n",
       "      <td>2016</td>\n",
       "      <td>12.0</td>\n",
       "      <td>51.738905</td>\n",
       "      <td>Dev Patel</td>\n",
       "      <td>Nicole Kidman</td>\n",
       "      <td>Rooney Mara</td>\n",
       "      <td>33000</td>\n",
       "      <td>96000.0</td>\n",
       "      <td>9800.0</td>\n",
       "      <td>8.1</td>\n",
       "      <td>Biography</td>\n",
       "      <td>Drama</td>\n",
       "      <td>NaN</td>\n",
       "      <td>69.0</td>\n",
       "      <td>118</td>\n",
       "      <td>PG-13</td>\n",
       "      <td>Australia</td>\n",
       "    </tr>\n",
       "    <tr>\n",
       "      <th>3</th>\n",
       "      <td>Arrival</td>\n",
       "      <td>2016</td>\n",
       "      <td>47.0</td>\n",
       "      <td>100.546139</td>\n",
       "      <td>Amy Adams</td>\n",
       "      <td>Jeremy Renner</td>\n",
       "      <td>Forest Whitaker</td>\n",
       "      <td>35000</td>\n",
       "      <td>5300.0</td>\n",
       "      <td>NaN</td>\n",
       "      <td>8.0</td>\n",
       "      <td>Drama</td>\n",
       "      <td>Mystery</td>\n",
       "      <td>Sci-Fi</td>\n",
       "      <td>81.0</td>\n",
       "      <td>116</td>\n",
       "      <td>PG-13</td>\n",
       "      <td>USA</td>\n",
       "    </tr>\n",
       "    <tr>\n",
       "      <th>4</th>\n",
       "      <td>Manchester by the Sea</td>\n",
       "      <td>2016</td>\n",
       "      <td>9.0</td>\n",
       "      <td>47.695371</td>\n",
       "      <td>Casey Affleck</td>\n",
       "      <td>Michelle Williams</td>\n",
       "      <td>Kyle Chandler</td>\n",
       "      <td>518</td>\n",
       "      <td>71000.0</td>\n",
       "      <td>3300.0</td>\n",
       "      <td>7.9</td>\n",
       "      <td>Drama</td>\n",
       "      <td>NaN</td>\n",
       "      <td>NaN</td>\n",
       "      <td>96.0</td>\n",
       "      <td>137</td>\n",
       "      <td>R</td>\n",
       "      <td>USA</td>\n",
       "    </tr>\n",
       "  </tbody>\n",
       "</table>\n",
       "</div>"
      ],
      "text/plain": [
       "                   Title  title_year  budget       Gross      actor_1_name  \\\n",
       "0             La La Land        2016    30.0  151.101803      Ryan Gosling   \n",
       "1               Zootopia        2016   150.0  341.268248  Ginnifer Goodwin   \n",
       "2                   Lion        2016    12.0   51.738905         Dev Patel   \n",
       "3                Arrival        2016    47.0  100.546139         Amy Adams   \n",
       "4  Manchester by the Sea        2016     9.0   47.695371     Casey Affleck   \n",
       "\n",
       "         actor_2_name     actor_3_name  actor_1_facebook_likes  \\\n",
       "0          Emma Stone       Amiée Conn                   14000   \n",
       "1       Jason Bateman       Idris Elba                    2800   \n",
       "2       Nicole Kidman      Rooney Mara                   33000   \n",
       "3       Jeremy Renner  Forest Whitaker                   35000   \n",
       "4  Michelle Williams     Kyle Chandler                     518   \n",
       "\n",
       "   actor_2_facebook_likes  actor_3_facebook_likes  IMDb_rating    genre_1  \\\n",
       "0                 19000.0                     NaN          8.2     Comedy   \n",
       "1                 28000.0                 27000.0          8.1  Animation   \n",
       "2                 96000.0                  9800.0          8.1  Biography   \n",
       "3                  5300.0                     NaN          8.0      Drama   \n",
       "4                 71000.0                  3300.0          7.9      Drama   \n",
       "\n",
       "     genre_2 genre_3  MetaCritic  Runtime content_rating    Country  \n",
       "0      Drama   Music        93.0      128          PG-13        USA  \n",
       "1  Adventure  Comedy        78.0      108             PG        USA  \n",
       "2      Drama     NaN        69.0      118          PG-13  Australia  \n",
       "3    Mystery  Sci-Fi        81.0      116          PG-13        USA  \n",
       "4        NaN     NaN        96.0      137              R        USA  "
      ]
     },
     "execution_count": 8,
     "metadata": {},
     "output_type": "execute_result"
    }
   ],
   "source": [
    "d1[\"Gross\"]=d1[\"Gross\"]/1000000\n",
    "d1[\"budget\"]=d1[\"budget\"]/1000000\n",
    "d1.head()"
   ]
  },
  {
   "cell_type": "code",
   "execution_count": 10,
   "id": "6a6e5f6e",
   "metadata": {},
   "outputs": [
    {
     "data": {
      "text/plain": [
       "2014    20\n",
       "2010    18\n",
       "2013    17\n",
       "2012    13\n",
       "2015    12\n",
       "2011    11\n",
       "2016     9\n",
       "Name: title_year, dtype: int64"
      ]
     },
     "execution_count": 10,
     "metadata": {},
     "output_type": "execute_result"
    }
   ],
   "source": [
    "d1['title_year'].value_counts()"
   ]
  },
  {
   "cell_type": "code",
   "execution_count": null,
   "id": "a0b254f2",
   "metadata": {},
   "outputs": [],
   "source": [
    "# HISTOGRAM use to represent frequency distribution"
   ]
  },
  {
   "cell_type": "code",
   "execution_count": 12,
   "id": "eee2eb34",
   "metadata": {},
   "outputs": [
    {
     "name": "stdout",
     "output_type": "stream",
     "text": [
      "23\n"
     ]
    }
   ],
   "source": [
    "x=[1,2,3,4,5,6,7,8,9,2,3,4,5,6,7,5,4,6,5,7,5,7,5]\n",
    "print(len(x))"
   ]
  },
  {
   "cell_type": "code",
   "execution_count": 15,
   "id": "866ca379",
   "metadata": {},
   "outputs": [
    {
     "name": "stdout",
     "output_type": "stream",
     "text": [
      "Counter({5: 6, 7: 4, 4: 3, 6: 3, 2: 2, 3: 2, 1: 1, 8: 1, 9: 1})\n"
     ]
    }
   ],
   "source": [
    "from collections import Counter\n",
    "c1=Counter(x)\n",
    "print(c1)"
   ]
  },
  {
   "cell_type": "code",
   "execution_count": 20,
   "id": "45053ad0",
   "metadata": {},
   "outputs": [
    {
     "data": {
      "image/png": "[encoded data removed]",
      "text/plain": [
       "<Figure size 640x480 with 1 Axes>"
      ]
     },
     "metadata": {},
     "output_type": "display_data"
    },
    {
     "name": "stdout",
     "output_type": "stream",
     "text": [
      "Counter({5: 6, 7: 4, 4: 3, 6: 3, 2: 2, 3: 2, 1: 1, 8: 1, 9: 1})\n"
     ]
    }
   ],
   "source": [
    "plt.hist(x,bins=[1,2,3,4,5,6,7,8],color='orange',edgecolor='black')\n",
    "plt.show()\n",
    "print(c1)"
   ]
  },
  {
   "cell_type": "code",
   "execution_count": 22,
   "id": "9baeabf2",
   "metadata": {},
   "outputs": [
    {
     "data": {
      "image/png": "[encoded data removed]",
      "text/plain": [
       "<Figure size 640x480 with 1 Axes>"
      ]
     },
     "metadata": {},
     "output_type": "display_data"
    }
   ],
   "source": [
    "# plot histogram for budget\n",
    "plt.hist(d1['budget'],edgecolor='black')\n",
    "plt.title('histogram for budget in million $')\n",
    "plt.show()"
   ]
  },
  {
   "cell_type": "code",
   "execution_count": 23,
   "id": "330ae7fb",
   "metadata": {},
   "outputs": [
    {
     "data": {
      "image/png": "[encoded data removed]",
      "text/plain": [
       "<Figure size 640x480 with 1 Axes>"
      ]
     },
     "metadata": {},
     "output_type": "display_data"
    }
   ],
   "source": [
    "# plot histogeram for gross\n",
    "plt.hist(d1['Gross'],color='lightgreen',edgecolor='black')\n",
    "plt.title('Histogram for gross in million')\n",
    "plt.show()"
   ]
  },
  {
   "cell_type": "code",
   "execution_count": 24,
   "id": "8c96a1a0",
   "metadata": {},
   "outputs": [
    {
     "data": {
      "text/plain": [
       "(68, 18)"
      ]
     },
     "execution_count": 24,
     "metadata": {},
     "output_type": "execute_result"
    }
   ],
   "source": [
    "# plot histogram for the budget column for the year 2014 and beyond\n",
    "\n",
    "d1_2014=d1[d1['title_year'].isin([2010,2012,2013,2014])]\n",
    "d1_2014.shape"
   ]
  },
  {
   "cell_type": "code",
   "execution_count": 26,
   "id": "70cfa7e4",
   "metadata": {},
   "outputs": [
    {
     "data": {
      "image/png": "[encoded data removed]",
      "text/plain": [
       "<Figure size 640x480 with 1 Axes>"
      ]
     },
     "metadata": {},
     "output_type": "display_data"
    }
   ],
   "source": [
    "plt.hist(d1_2014['budget'],color='cyan',edgecolor='black')\n",
    "plt.show()"
   ]
  },
  {
   "cell_type": "code",
   "execution_count": 27,
   "id": "bc27addf",
   "metadata": {},
   "outputs": [
    {
     "name": "stdout",
     "output_type": "stream",
     "text": [
      "3.0\n",
      "260.0\n"
     ]
    }
   ],
   "source": [
    "# plot histogram for budget column for the year 2014 and beyond\n",
    "\n",
    "print(d1_2014['budget'].min())\n",
    "print(d1_2014['budget'].max())"
   ]
  },
  {
   "cell_type": "code",
   "execution_count": 31,
   "id": "3fc70e85",
   "metadata": {},
   "outputs": [
    {
     "data": {
      "image/png": "[encoded data removed]",
      "text/plain": [
       "<Figure size 1000x400 with 1 Axes>"
      ]
     },
     "metadata": {},
     "output_type": "display_data"
    }
   ],
   "source": [
    "plt.figure(figsize=(10,4))\n",
    "plt.hist(d1_2014['budget'],bins=\n",
    "        list(range(int(d1_2014['budget'].min()),int(d1_2014['budget'].max()))))\n",
    "plt.title('Histogram for budget in million $ for 2014 and beyond')\n",
    "plt.show()"
   ]
  },
  {
   "cell_type": "code",
   "execution_count": null,
   "id": "06f8dc56",
   "metadata": {},
   "outputs": [],
   "source": [
    "# pie chart use to represent percentage distribution"
   ]
  },
  {
   "cell_type": "code",
   "execution_count": 32,
   "id": "cbed6687",
   "metadata": {},
   "outputs": [
    {
     "data": {
      "text/html": [
       "<div>\n",
       "<style scoped>\n",
       "    .dataframe tbody tr th:only-of-type {\n",
       "        vertical-align: middle;\n",
       "    }\n",
       "\n",
       "    .dataframe tbody tr th {\n",
       "        vertical-align: top;\n",
       "    }\n",
       "\n",
       "    .dataframe thead th {\n",
       "        text-align: right;\n",
       "    }\n",
       "</style>\n",
       "<table border=\"1\" class=\"dataframe\">\n",
       "  <thead>\n",
       "    <tr style=\"text-align: right;\">\n",
       "      <th></th>\n",
       "      <th>Title</th>\n",
       "      <th>title_year</th>\n",
       "      <th>budget</th>\n",
       "      <th>Gross</th>\n",
       "      <th>actor_1_name</th>\n",
       "      <th>actor_2_name</th>\n",
       "      <th>actor_3_name</th>\n",
       "      <th>actor_1_facebook_likes</th>\n",
       "      <th>actor_2_facebook_likes</th>\n",
       "      <th>actor_3_facebook_likes</th>\n",
       "      <th>IMDb_rating</th>\n",
       "      <th>genre_1</th>\n",
       "      <th>genre_2</th>\n",
       "      <th>genre_3</th>\n",
       "      <th>MetaCritic</th>\n",
       "      <th>Runtime</th>\n",
       "      <th>content_rating</th>\n",
       "      <th>Country</th>\n",
       "      <th>profit</th>\n",
       "    </tr>\n",
       "  </thead>\n",
       "  <tbody>\n",
       "    <tr>\n",
       "      <th>0</th>\n",
       "      <td>La La Land</td>\n",
       "      <td>2016</td>\n",
       "      <td>30.0</td>\n",
       "      <td>151.101803</td>\n",
       "      <td>Ryan Gosling</td>\n",
       "      <td>Emma Stone</td>\n",
       "      <td>Amiée Conn</td>\n",
       "      <td>14000</td>\n",
       "      <td>19000.0</td>\n",
       "      <td>NaN</td>\n",
       "      <td>8.2</td>\n",
       "      <td>Comedy</td>\n",
       "      <td>Drama</td>\n",
       "      <td>Music</td>\n",
       "      <td>93.0</td>\n",
       "      <td>128</td>\n",
       "      <td>PG-13</td>\n",
       "      <td>USA</td>\n",
       "      <td>121.101803</td>\n",
       "    </tr>\n",
       "    <tr>\n",
       "      <th>1</th>\n",
       "      <td>Zootopia</td>\n",
       "      <td>2016</td>\n",
       "      <td>150.0</td>\n",
       "      <td>341.268248</td>\n",
       "      <td>Ginnifer Goodwin</td>\n",
       "      <td>Jason Bateman</td>\n",
       "      <td>Idris Elba</td>\n",
       "      <td>2800</td>\n",
       "      <td>28000.0</td>\n",
       "      <td>27000.0</td>\n",
       "      <td>8.1</td>\n",
       "      <td>Animation</td>\n",
       "      <td>Adventure</td>\n",
       "      <td>Comedy</td>\n",
       "      <td>78.0</td>\n",
       "      <td>108</td>\n",
       "      <td>PG</td>\n",
       "      <td>USA</td>\n",
       "      <td>191.268248</td>\n",
       "    </tr>\n",
       "    <tr>\n",
       "      <th>2</th>\n",
       "      <td>Lion</td>\n",
       "      <td>2016</td>\n",
       "      <td>12.0</td>\n",
       "      <td>51.738905</td>\n",
       "      <td>Dev Patel</td>\n",
       "      <td>Nicole Kidman</td>\n",
       "      <td>Rooney Mara</td>\n",
       "      <td>33000</td>\n",
       "      <td>96000.0</td>\n",
       "      <td>9800.0</td>\n",
       "      <td>8.1</td>\n",
       "      <td>Biography</td>\n",
       "      <td>Drama</td>\n",
       "      <td>NaN</td>\n",
       "      <td>69.0</td>\n",
       "      <td>118</td>\n",
       "      <td>PG-13</td>\n",
       "      <td>Australia</td>\n",
       "      <td>39.738905</td>\n",
       "    </tr>\n",
       "    <tr>\n",
       "      <th>3</th>\n",
       "      <td>Arrival</td>\n",
       "      <td>2016</td>\n",
       "      <td>47.0</td>\n",
       "      <td>100.546139</td>\n",
       "      <td>Amy Adams</td>\n",
       "      <td>Jeremy Renner</td>\n",
       "      <td>Forest Whitaker</td>\n",
       "      <td>35000</td>\n",
       "      <td>5300.0</td>\n",
       "      <td>NaN</td>\n",
       "      <td>8.0</td>\n",
       "      <td>Drama</td>\n",
       "      <td>Mystery</td>\n",
       "      <td>Sci-Fi</td>\n",
       "      <td>81.0</td>\n",
       "      <td>116</td>\n",
       "      <td>PG-13</td>\n",
       "      <td>USA</td>\n",
       "      <td>53.546139</td>\n",
       "    </tr>\n",
       "    <tr>\n",
       "      <th>4</th>\n",
       "      <td>Manchester by the Sea</td>\n",
       "      <td>2016</td>\n",
       "      <td>9.0</td>\n",
       "      <td>47.695371</td>\n",
       "      <td>Casey Affleck</td>\n",
       "      <td>Michelle Williams</td>\n",
       "      <td>Kyle Chandler</td>\n",
       "      <td>518</td>\n",
       "      <td>71000.0</td>\n",
       "      <td>3300.0</td>\n",
       "      <td>7.9</td>\n",
       "      <td>Drama</td>\n",
       "      <td>NaN</td>\n",
       "      <td>NaN</td>\n",
       "      <td>96.0</td>\n",
       "      <td>137</td>\n",
       "      <td>R</td>\n",
       "      <td>USA</td>\n",
       "      <td>38.695371</td>\n",
       "    </tr>\n",
       "  </tbody>\n",
       "</table>\n",
       "</div>"
      ],
      "text/plain": [
       "                   Title  title_year  budget       Gross      actor_1_name  \\\n",
       "0             La La Land        2016    30.0  151.101803      Ryan Gosling   \n",
       "1               Zootopia        2016   150.0  341.268248  Ginnifer Goodwin   \n",
       "2                   Lion        2016    12.0   51.738905         Dev Patel   \n",
       "3                Arrival        2016    47.0  100.546139         Amy Adams   \n",
       "4  Manchester by the Sea        2016     9.0   47.695371     Casey Affleck   \n",
       "\n",
       "         actor_2_name     actor_3_name  actor_1_facebook_likes  \\\n",
       "0          Emma Stone       Amiée Conn                   14000   \n",
       "1       Jason Bateman       Idris Elba                    2800   \n",
       "2       Nicole Kidman      Rooney Mara                   33000   \n",
       "3       Jeremy Renner  Forest Whitaker                   35000   \n",
       "4  Michelle Williams     Kyle Chandler                     518   \n",
       "\n",
       "   actor_2_facebook_likes  actor_3_facebook_likes  IMDb_rating    genre_1  \\\n",
       "0                 19000.0                     NaN          8.2     Comedy   \n",
       "1                 28000.0                 27000.0          8.1  Animation   \n",
       "2                 96000.0                  9800.0          8.1  Biography   \n",
       "3                  5300.0                     NaN          8.0      Drama   \n",
       "4                 71000.0                  3300.0          7.9      Drama   \n",
       "\n",
       "     genre_2 genre_3  MetaCritic  Runtime content_rating    Country  \\\n",
       "0      Drama   Music        93.0      128          PG-13        USA   \n",
       "1  Adventure  Comedy        78.0      108             PG        USA   \n",
       "2      Drama     NaN        69.0      118          PG-13  Australia   \n",
       "3    Mystery  Sci-Fi        81.0      116          PG-13        USA   \n",
       "4        NaN     NaN        96.0      137              R        USA   \n",
       "\n",
       "       profit  \n",
       "0  121.101803  \n",
       "1  191.268248  \n",
       "2   39.738905  \n",
       "3   53.546139  \n",
       "4   38.695371  "
      ]
     },
     "execution_count": 32,
     "metadata": {},
     "output_type": "execute_result"
    }
   ],
   "source": [
    "# represent the percetntage distributionof year wise mean of profit  based on title_yearon  a pie chart\n",
    "\n",
    "d1['profit']=d1['Gross']-d1['budget']\n",
    "d1.head()"
   ]
  },
  {
   "cell_type": "code",
   "execution_count": 33,
   "id": "efa290bc",
   "metadata": {},
   "outputs": [
    {
     "data": {
      "text/html": [
       "<div>\n",
       "<style scoped>\n",
       "    .dataframe tbody tr th:only-of-type {\n",
       "        vertical-align: middle;\n",
       "    }\n",
       "\n",
       "    .dataframe tbody tr th {\n",
       "        vertical-align: top;\n",
       "    }\n",
       "\n",
       "    .dataframe thead th {\n",
       "        text-align: right;\n",
       "    }\n",
       "</style>\n",
       "<table border=\"1\" class=\"dataframe\">\n",
       "  <thead>\n",
       "    <tr style=\"text-align: right;\">\n",
       "      <th></th>\n",
       "      <th>title_year</th>\n",
       "      <th>profit</th>\n",
       "    </tr>\n",
       "  </thead>\n",
       "  <tbody>\n",
       "    <tr>\n",
       "      <th>0</th>\n",
       "      <td>2010</td>\n",
       "      <td>67.880646</td>\n",
       "    </tr>\n",
       "    <tr>\n",
       "      <th>1</th>\n",
       "      <td>2011</td>\n",
       "      <td>23.813389</td>\n",
       "    </tr>\n",
       "    <tr>\n",
       "      <th>2</th>\n",
       "      <td>2012</td>\n",
       "      <td>97.378988</td>\n",
       "    </tr>\n",
       "    <tr>\n",
       "      <th>3</th>\n",
       "      <td>2013</td>\n",
       "      <td>47.204695</td>\n",
       "    </tr>\n",
       "    <tr>\n",
       "      <th>4</th>\n",
       "      <td>2014</td>\n",
       "      <td>50.843003</td>\n",
       "    </tr>\n",
       "    <tr>\n",
       "      <th>5</th>\n",
       "      <td>2015</td>\n",
       "      <td>107.508278</td>\n",
       "    </tr>\n",
       "    <tr>\n",
       "      <th>6</th>\n",
       "      <td>2016</td>\n",
       "      <td>109.913531</td>\n",
       "    </tr>\n",
       "  </tbody>\n",
       "</table>\n",
       "</div>"
      ],
      "text/plain": [
       "   title_year      profit\n",
       "0        2010   67.880646\n",
       "1        2011   23.813389\n",
       "2        2012   97.378988\n",
       "3        2013   47.204695\n",
       "4        2014   50.843003\n",
       "5        2015  107.508278\n",
       "6        2016  109.913531"
      ]
     },
     "execution_count": 33,
     "metadata": {},
     "output_type": "execute_result"
    }
   ],
   "source": [
    "q3=d1.groupby('title_year')['profit'].mean().reset_index()\n",
    "q3"
   ]
  },
  {
   "cell_type": "code",
   "execution_count": 35,
   "id": "4e53e7ca",
   "metadata": {},
   "outputs": [
    {
     "name": "stdout",
     "output_type": "stream",
     "text": [
      "504.54252884660866\n",
      "21.308070549724608\n"
     ]
    }
   ],
   "source": [
    "sum_profit=q3['profit'].sum()\n",
    "print(sum_profit)\n",
    "\n",
    "per_2015=107.508278/sum_profit\n",
    "print(per_2015*100)"
   ]
  },
  {
   "cell_type": "code",
   "execution_count": 37,
   "id": "6a6f5fa7",
   "metadata": {},
   "outputs": [
    {
     "data": {
      "image/png": "[encoded data removed]",
      "text/plain": [
       "<Figure size 640x480 with 1 Axes>"
      ]
     },
     "metadata": {},
     "output_type": "display_data"
    }
   ],
   "source": [
    "plt.pie(x=q3['profit'],labels=q3['title_year'],autopct='%.2f%%')\n",
    "plt.show()"
   ]
  },
  {
   "cell_type": "code",
   "execution_count": 39,
   "id": "fbfc3017",
   "metadata": {},
   "outputs": [
    {
     "data": {
      "image/png": "[encoded data removed]",
      "text/plain": [
       "<Figure size 640x480 with 1 Axes>"
      ]
     },
     "metadata": {},
     "output_type": "display_data"
    }
   ],
   "source": [
    "plt.pie(x=q3['profit'],labels=q3['title_year'],\n",
    "        colors=['red','blue','yellow','tan','brown','green','cyan'],autopct='%.2f%%',\n",
    "       explode=(0,0,0,0,0,0,0.1))\n",
    "plt.title('year wise mean of profit in million dollers',fontsize=15,color='blue')\n",
    "plt.show()"
   ]
  },
  {
   "cell_type": "code",
   "execution_count": 41,
   "id": "3c29977d",
   "metadata": {},
   "outputs": [
    {
     "data": {
      "image/png": "[encoded data removed]",
      "text/plain": [
       "<Figure size 640x480 with 1 Axes>"
      ]
     },
     "metadata": {},
     "output_type": "display_data"
    }
   ],
   "source": [
    "plt.pie(x=q3['profit'],labels=q3['title_year'],\n",
    "        colors=['red','blue','yellow','tan','brown','green','cyan'],autopct='%.2f%%',\n",
    "       explode=(0,0,0,0,0,0,0.1),shadow=True,counterclock=False)\n",
    "plt.title('year wise mean of profit in million dollers',fontsize=15,color='blue')\n",
    "plt.show()"
   ]
  },
  {
   "cell_type": "code",
   "execution_count": null,
   "id": "00bb6735",
   "metadata": {},
   "outputs": [],
   "source": []
  }
 ],
 "metadata": {
  "kernelspec": {
   "display_name": "Python 3 (ipykernel)",
   "language": "python",
   "name": "python3"
  },
  "language_info": {
   "codemirror_mode": {
    "name": "ipython",
    "version": 3
   },
   "file_extension": ".py",
   "mimetype": "text/x-python",
   "name": "python",
   "nbconvert_exporter": "python",
   "pygments_lexer": "ipython3",
   "version": "3.10.9"
  }
 },
 "nbformat": 4,
 "nbformat_minor": 5
}
