{
 "cells": [
  {
   "cell_type": "code",
   "execution_count": 1,
   "id": "c7c97f28",
   "metadata": {},
   "outputs": [],
   "source": [
    "import pandas as pd \n",
    "import numpy as np\n",
    "import matplotlib.pyplot as plt\n",
    "import warnings\n",
    "warnings.filterwarnings(\"ignore\")"
   ]
  },
  {
   "cell_type": "code",
   "execution_count": 8,
   "id": "67b559e2",
   "metadata": {},
   "outputs": [],
   "source": [
    "df=pd.read_csv('imdb_movies.csv')"
   ]
  },
  {
   "cell_type": "code",
   "execution_count": 9,
   "id": "1cc7139c",
   "metadata": {},
   "outputs": [
    {
     "data": {
      "text/plain": [
       "(100, 62)"
      ]
     },
     "execution_count": 9,
     "metadata": {},
     "output_type": "execute_result"
    }
   ],
   "source": [
    "df.shape"
   ]
  },
  {
   "cell_type": "code",
   "execution_count": 10,
   "id": "71544125",
   "metadata": {},
   "outputs": [
    {
     "name": "stdout",
     "output_type": "stream",
     "text": [
      "Index(['Title', 'title_year', 'budget', 'Gross', 'actor_1_name',\n",
      "       'actor_2_name', 'actor_3_name', 'actor_1_facebook_likes',\n",
      "       'actor_2_facebook_likes', 'actor_3_facebook_likes', 'IMDb_rating',\n",
      "       'genre_1', 'genre_2', 'genre_3', 'MetaCritic', 'Runtime',\n",
      "       'content_rating', 'Country'],\n",
      "      dtype='object')\n",
      "62\n"
     ]
    }
   ],
   "source": [
    "d1=df.iloc[:,[0,1,2,3,4,5,6,7,8,9,10,11,12,13,14,15,60,61]]\n",
    "print(d1.columns)\n",
    "print(len(df.columns))"
   ]
  },
  {
   "cell_type": "code",
   "execution_count": 11,
   "id": "ad17aa5c",
   "metadata": {},
   "outputs": [
    {
     "data": {
      "text/html": [
       "<div>\n",
       "<style scoped>\n",
       "    .dataframe tbody tr th:only-of-type {\n",
       "        vertical-align: middle;\n",
       "    }\n",
       "\n",
       "    .dataframe tbody tr th {\n",
       "        vertical-align: top;\n",
       "    }\n",
       "\n",
       "    .dataframe thead th {\n",
       "        text-align: right;\n",
       "    }\n",
       "</style>\n",
       "<table border=\"1\" class=\"dataframe\">\n",
       "  <thead>\n",
       "    <tr style=\"text-align: right;\">\n",
       "      <th></th>\n",
       "      <th>Title</th>\n",
       "      <th>title_year</th>\n",
       "      <th>budget</th>\n",
       "      <th>Gross</th>\n",
       "      <th>actor_1_name</th>\n",
       "      <th>actor_2_name</th>\n",
       "      <th>actor_3_name</th>\n",
       "      <th>actor_1_facebook_likes</th>\n",
       "      <th>actor_2_facebook_likes</th>\n",
       "      <th>actor_3_facebook_likes</th>\n",
       "      <th>IMDb_rating</th>\n",
       "      <th>genre_1</th>\n",
       "      <th>genre_2</th>\n",
       "      <th>genre_3</th>\n",
       "      <th>MetaCritic</th>\n",
       "      <th>Runtime</th>\n",
       "      <th>content_rating</th>\n",
       "      <th>Country</th>\n",
       "    </tr>\n",
       "  </thead>\n",
       "  <tbody>\n",
       "    <tr>\n",
       "      <th>0</th>\n",
       "      <td>La La Land</td>\n",
       "      <td>2016</td>\n",
       "      <td>30.0</td>\n",
       "      <td>151.101803</td>\n",
       "      <td>Ryan Gosling</td>\n",
       "      <td>Emma Stone</td>\n",
       "      <td>Amiée Conn</td>\n",
       "      <td>14000</td>\n",
       "      <td>19000.0</td>\n",
       "      <td>NaN</td>\n",
       "      <td>8.2</td>\n",
       "      <td>Comedy</td>\n",
       "      <td>Drama</td>\n",
       "      <td>Music</td>\n",
       "      <td>93.0</td>\n",
       "      <td>128</td>\n",
       "      <td>PG-13</td>\n",
       "      <td>USA</td>\n",
       "    </tr>\n",
       "    <tr>\n",
       "      <th>1</th>\n",
       "      <td>Zootopia</td>\n",
       "      <td>2016</td>\n",
       "      <td>150.0</td>\n",
       "      <td>341.268248</td>\n",
       "      <td>Ginnifer Goodwin</td>\n",
       "      <td>Jason Bateman</td>\n",
       "      <td>Idris Elba</td>\n",
       "      <td>2800</td>\n",
       "      <td>28000.0</td>\n",
       "      <td>27000.0</td>\n",
       "      <td>8.1</td>\n",
       "      <td>Animation</td>\n",
       "      <td>Adventure</td>\n",
       "      <td>Comedy</td>\n",
       "      <td>78.0</td>\n",
       "      <td>108</td>\n",
       "      <td>PG</td>\n",
       "      <td>USA</td>\n",
       "    </tr>\n",
       "    <tr>\n",
       "      <th>2</th>\n",
       "      <td>Lion</td>\n",
       "      <td>2016</td>\n",
       "      <td>12.0</td>\n",
       "      <td>51.738905</td>\n",
       "      <td>Dev Patel</td>\n",
       "      <td>Nicole Kidman</td>\n",
       "      <td>Rooney Mara</td>\n",
       "      <td>33000</td>\n",
       "      <td>96000.0</td>\n",
       "      <td>9800.0</td>\n",
       "      <td>8.1</td>\n",
       "      <td>Biography</td>\n",
       "      <td>Drama</td>\n",
       "      <td>NaN</td>\n",
       "      <td>69.0</td>\n",
       "      <td>118</td>\n",
       "      <td>PG-13</td>\n",
       "      <td>Australia</td>\n",
       "    </tr>\n",
       "    <tr>\n",
       "      <th>3</th>\n",
       "      <td>Arrival</td>\n",
       "      <td>2016</td>\n",
       "      <td>47.0</td>\n",
       "      <td>100.546139</td>\n",
       "      <td>Amy Adams</td>\n",
       "      <td>Jeremy Renner</td>\n",
       "      <td>Forest Whitaker</td>\n",
       "      <td>35000</td>\n",
       "      <td>5300.0</td>\n",
       "      <td>NaN</td>\n",
       "      <td>8.0</td>\n",
       "      <td>Drama</td>\n",
       "      <td>Mystery</td>\n",
       "      <td>Sci-Fi</td>\n",
       "      <td>81.0</td>\n",
       "      <td>116</td>\n",
       "      <td>PG-13</td>\n",
       "      <td>USA</td>\n",
       "    </tr>\n",
       "    <tr>\n",
       "      <th>4</th>\n",
       "      <td>Manchester by the Sea</td>\n",
       "      <td>2016</td>\n",
       "      <td>9.0</td>\n",
       "      <td>47.695371</td>\n",
       "      <td>Casey Affleck</td>\n",
       "      <td>Michelle Williams</td>\n",
       "      <td>Kyle Chandler</td>\n",
       "      <td>518</td>\n",
       "      <td>71000.0</td>\n",
       "      <td>3300.0</td>\n",
       "      <td>7.9</td>\n",
       "      <td>Drama</td>\n",
       "      <td>NaN</td>\n",
       "      <td>NaN</td>\n",
       "      <td>96.0</td>\n",
       "      <td>137</td>\n",
       "      <td>R</td>\n",
       "      <td>USA</td>\n",
       "    </tr>\n",
       "  </tbody>\n",
       "</table>\n",
       "</div>"
      ],
      "text/plain": [
       "                   Title  title_year  budget       Gross      actor_1_name  \\\n",
       "0             La La Land        2016    30.0  151.101803      Ryan Gosling   \n",
       "1               Zootopia        2016   150.0  341.268248  Ginnifer Goodwin   \n",
       "2                   Lion        2016    12.0   51.738905         Dev Patel   \n",
       "3                Arrival        2016    47.0  100.546139         Amy Adams   \n",
       "4  Manchester by the Sea        2016     9.0   47.695371     Casey Affleck   \n",
       "\n",
       "         actor_2_name     actor_3_name  actor_1_facebook_likes  \\\n",
       "0          Emma Stone       Amiée Conn                   14000   \n",
       "1       Jason Bateman       Idris Elba                    2800   \n",
       "2       Nicole Kidman      Rooney Mara                   33000   \n",
       "3       Jeremy Renner  Forest Whitaker                   35000   \n",
       "4  Michelle Williams     Kyle Chandler                     518   \n",
       "\n",
       "   actor_2_facebook_likes  actor_3_facebook_likes  IMDb_rating    genre_1  \\\n",
       "0                 19000.0                     NaN          8.2     Comedy   \n",
       "1                 28000.0                 27000.0          8.1  Animation   \n",
       "2                 96000.0                  9800.0          8.1  Biography   \n",
       "3                  5300.0                     NaN          8.0      Drama   \n",
       "4                 71000.0                  3300.0          7.9      Drama   \n",
       "\n",
       "     genre_2 genre_3  MetaCritic  Runtime content_rating    Country  \n",
       "0      Drama   Music        93.0      128          PG-13        USA  \n",
       "1  Adventure  Comedy        78.0      108             PG        USA  \n",
       "2      Drama     NaN        69.0      118          PG-13  Australia  \n",
       "3    Mystery  Sci-Fi        81.0      116          PG-13        USA  \n",
       "4        NaN     NaN        96.0      137              R        USA  "
      ]
     },
     "execution_count": 11,
     "metadata": {},
     "output_type": "execute_result"
    }
   ],
   "source": [
    "d1[\"Gross\"]=d1[\"Gross\"]/1000000\n",
    "d1[\"budget\"]=d1[\"budget\"]/1000000\n",
    "d1.head()"
   ]
  },
  {
   "cell_type": "code",
   "execution_count": 12,
   "id": "5bef3491",
   "metadata": {},
   "outputs": [
    {
     "data": {
      "text/html": [
       "<div>\n",
       "<style scoped>\n",
       "    .dataframe tbody tr th:only-of-type {\n",
       "        vertical-align: middle;\n",
       "    }\n",
       "\n",
       "    .dataframe tbody tr th {\n",
       "        vertical-align: top;\n",
       "    }\n",
       "\n",
       "    .dataframe thead th {\n",
       "        text-align: right;\n",
       "    }\n",
       "</style>\n",
       "<table border=\"1\" class=\"dataframe\">\n",
       "  <thead>\n",
       "    <tr style=\"text-align: right;\">\n",
       "      <th></th>\n",
       "      <th>Title</th>\n",
       "      <th>title_year</th>\n",
       "      <th>budget</th>\n",
       "      <th>Gross</th>\n",
       "      <th>actor_1_name</th>\n",
       "      <th>actor_2_name</th>\n",
       "      <th>actor_3_name</th>\n",
       "      <th>actor_1_facebook_likes</th>\n",
       "      <th>actor_2_facebook_likes</th>\n",
       "      <th>actor_3_facebook_likes</th>\n",
       "      <th>IMDb_rating</th>\n",
       "      <th>genre_1</th>\n",
       "      <th>genre_2</th>\n",
       "      <th>genre_3</th>\n",
       "      <th>MetaCritic</th>\n",
       "      <th>Runtime</th>\n",
       "      <th>content_rating</th>\n",
       "      <th>Country</th>\n",
       "      <th>profit</th>\n",
       "    </tr>\n",
       "  </thead>\n",
       "  <tbody>\n",
       "    <tr>\n",
       "      <th>0</th>\n",
       "      <td>La La Land</td>\n",
       "      <td>2016</td>\n",
       "      <td>30.0</td>\n",
       "      <td>151.101803</td>\n",
       "      <td>Ryan Gosling</td>\n",
       "      <td>Emma Stone</td>\n",
       "      <td>Amiée Conn</td>\n",
       "      <td>14000</td>\n",
       "      <td>19000.0</td>\n",
       "      <td>NaN</td>\n",
       "      <td>8.2</td>\n",
       "      <td>Comedy</td>\n",
       "      <td>Drama</td>\n",
       "      <td>Music</td>\n",
       "      <td>93.0</td>\n",
       "      <td>128</td>\n",
       "      <td>PG-13</td>\n",
       "      <td>USA</td>\n",
       "      <td>121.101803</td>\n",
       "    </tr>\n",
       "    <tr>\n",
       "      <th>1</th>\n",
       "      <td>Zootopia</td>\n",
       "      <td>2016</td>\n",
       "      <td>150.0</td>\n",
       "      <td>341.268248</td>\n",
       "      <td>Ginnifer Goodwin</td>\n",
       "      <td>Jason Bateman</td>\n",
       "      <td>Idris Elba</td>\n",
       "      <td>2800</td>\n",
       "      <td>28000.0</td>\n",
       "      <td>27000.0</td>\n",
       "      <td>8.1</td>\n",
       "      <td>Animation</td>\n",
       "      <td>Adventure</td>\n",
       "      <td>Comedy</td>\n",
       "      <td>78.0</td>\n",
       "      <td>108</td>\n",
       "      <td>PG</td>\n",
       "      <td>USA</td>\n",
       "      <td>191.268248</td>\n",
       "    </tr>\n",
       "    <tr>\n",
       "      <th>2</th>\n",
       "      <td>Lion</td>\n",
       "      <td>2016</td>\n",
       "      <td>12.0</td>\n",
       "      <td>51.738905</td>\n",
       "      <td>Dev Patel</td>\n",
       "      <td>Nicole Kidman</td>\n",
       "      <td>Rooney Mara</td>\n",
       "      <td>33000</td>\n",
       "      <td>96000.0</td>\n",
       "      <td>9800.0</td>\n",
       "      <td>8.1</td>\n",
       "      <td>Biography</td>\n",
       "      <td>Drama</td>\n",
       "      <td>NaN</td>\n",
       "      <td>69.0</td>\n",
       "      <td>118</td>\n",
       "      <td>PG-13</td>\n",
       "      <td>Australia</td>\n",
       "      <td>39.738905</td>\n",
       "    </tr>\n",
       "    <tr>\n",
       "      <th>3</th>\n",
       "      <td>Arrival</td>\n",
       "      <td>2016</td>\n",
       "      <td>47.0</td>\n",
       "      <td>100.546139</td>\n",
       "      <td>Amy Adams</td>\n",
       "      <td>Jeremy Renner</td>\n",
       "      <td>Forest Whitaker</td>\n",
       "      <td>35000</td>\n",
       "      <td>5300.0</td>\n",
       "      <td>NaN</td>\n",
       "      <td>8.0</td>\n",
       "      <td>Drama</td>\n",
       "      <td>Mystery</td>\n",
       "      <td>Sci-Fi</td>\n",
       "      <td>81.0</td>\n",
       "      <td>116</td>\n",
       "      <td>PG-13</td>\n",
       "      <td>USA</td>\n",
       "      <td>53.546139</td>\n",
       "    </tr>\n",
       "    <tr>\n",
       "      <th>4</th>\n",
       "      <td>Manchester by the Sea</td>\n",
       "      <td>2016</td>\n",
       "      <td>9.0</td>\n",
       "      <td>47.695371</td>\n",
       "      <td>Casey Affleck</td>\n",
       "      <td>Michelle Williams</td>\n",
       "      <td>Kyle Chandler</td>\n",
       "      <td>518</td>\n",
       "      <td>71000.0</td>\n",
       "      <td>3300.0</td>\n",
       "      <td>7.9</td>\n",
       "      <td>Drama</td>\n",
       "      <td>NaN</td>\n",
       "      <td>NaN</td>\n",
       "      <td>96.0</td>\n",
       "      <td>137</td>\n",
       "      <td>R</td>\n",
       "      <td>USA</td>\n",
       "      <td>38.695371</td>\n",
       "    </tr>\n",
       "  </tbody>\n",
       "</table>\n",
       "</div>"
      ],
      "text/plain": [
       "                   Title  title_year  budget       Gross      actor_1_name  \\\n",
       "0             La La Land        2016    30.0  151.101803      Ryan Gosling   \n",
       "1               Zootopia        2016   150.0  341.268248  Ginnifer Goodwin   \n",
       "2                   Lion        2016    12.0   51.738905         Dev Patel   \n",
       "3                Arrival        2016    47.0  100.546139         Amy Adams   \n",
       "4  Manchester by the Sea        2016     9.0   47.695371     Casey Affleck   \n",
       "\n",
       "         actor_2_name     actor_3_name  actor_1_facebook_likes  \\\n",
       "0          Emma Stone       Amiée Conn                   14000   \n",
       "1       Jason Bateman       Idris Elba                    2800   \n",
       "2       Nicole Kidman      Rooney Mara                   33000   \n",
       "3       Jeremy Renner  Forest Whitaker                   35000   \n",
       "4  Michelle Williams     Kyle Chandler                     518   \n",
       "\n",
       "   actor_2_facebook_likes  actor_3_facebook_likes  IMDb_rating    genre_1  \\\n",
       "0                 19000.0                     NaN          8.2     Comedy   \n",
       "1                 28000.0                 27000.0          8.1  Animation   \n",
       "2                 96000.0                  9800.0          8.1  Biography   \n",
       "3                  5300.0                     NaN          8.0      Drama   \n",
       "4                 71000.0                  3300.0          7.9      Drama   \n",
       "\n",
       "     genre_2 genre_3  MetaCritic  Runtime content_rating    Country  \\\n",
       "0      Drama   Music        93.0      128          PG-13        USA   \n",
       "1  Adventure  Comedy        78.0      108             PG        USA   \n",
       "2      Drama     NaN        69.0      118          PG-13  Australia   \n",
       "3    Mystery  Sci-Fi        81.0      116          PG-13        USA   \n",
       "4        NaN     NaN        96.0      137              R        USA   \n",
       "\n",
       "       profit  \n",
       "0  121.101803  \n",
       "1  191.268248  \n",
       "2   39.738905  \n",
       "3   53.546139  \n",
       "4   38.695371  "
      ]
     },
     "execution_count": 12,
     "metadata": {},
     "output_type": "execute_result"
    }
   ],
   "source": [
    "d1['profit']=d1['Gross']-d1['budget']\n",
    "d1.head()"
   ]
  },
  {
   "cell_type": "code",
   "execution_count": 17,
   "id": "bd65d205",
   "metadata": {},
   "outputs": [
    {
     "data": {
      "text/plain": [
       "count    100.000000\n",
       "mean      78.384000\n",
       "std       74.452947\n",
       "min        3.000000\n",
       "25%       15.750000\n",
       "50%       42.250000\n",
       "75%      150.000000\n",
       "max      260.000000\n",
       "Name: budget, dtype: float64"
      ]
     },
     "execution_count": 17,
     "metadata": {},
     "output_type": "execute_result"
    }
   ],
   "source": [
    "d1['budget'].describe()"
   ]
  },
  {
   "cell_type": "code",
   "execution_count": null,
   "id": "4c36ea39",
   "metadata": {},
   "outputs": [],
   "source": [
    "# box plot use to represent the quartile distribution of data"
   ]
  },
  {
   "cell_type": "code",
   "execution_count": 13,
   "id": "50d32672",
   "metadata": {},
   "outputs": [
    {
     "name": "stdout",
     "output_type": "stream",
     "text": [
      "[12, 14, 16, 15, 14, 25, 12, 11, 9, 10, 13, 15, 2, 17, 9, 16]\n",
      "16\n"
     ]
    }
   ],
   "source": [
    "x=[12,14,16,15,14,25,12,11,9,10,13,15,2,17,9,16]\n",
    "print(x)\n",
    "print(len(x))"
   ]
  },
  {
   "cell_type": "code",
   "execution_count": 14,
   "id": "dd9e37c6",
   "metadata": {},
   "outputs": [
    {
     "data": {
      "image/png": "[encoded data removed]",
      "text/plain": [
       "<Figure size 640x480 with 1 Axes>"
      ]
     },
     "metadata": {},
     "output_type": "display_data"
    }
   ],
   "source": [
    "plt.boxplot(x)\n",
    "plt.grid()\n",
    "plt.show()"
   ]
  },
  {
   "cell_type": "code",
   "execution_count": 15,
   "id": "cc98f96e",
   "metadata": {},
   "outputs": [
    {
     "name": "stdout",
     "output_type": "stream",
     "text": [
      "Q1 10.75\n",
      "Q2 13.5\n",
      "Q3 15.25\n",
      "IQR 4.5\n",
      "max 22.0\n",
      "min 4.0\n",
      "[2, 9, 9, 10, 11, 12, 12, 13, 14, 14, 15, 15, 16, 16, 17, 25]\n"
     ]
    }
   ],
   "source": [
    "q1=np.percentile(x,25)\n",
    "q2=np.percentile(x,50)\n",
    "q3=np.percentile(x,75)\n",
    "iqr=q3-q1\n",
    "print('Q1',q1)\n",
    "print('Q2',q2)\n",
    "print('Q3',q3)\n",
    "print('IQR',iqr)\n",
    "bmax=q3+1.5*iqr\n",
    "bmin=q1-1.5*iqr\n",
    "print('max',bmax)\n",
    "print('min',bmin)\n",
    "x.sort()\n",
    "print(x)\n",
    "      "
   ]
  },
  {
   "cell_type": "code",
   "execution_count": 16,
   "id": "eb4139fc",
   "metadata": {},
   "outputs": [
    {
     "data": {
      "image/png": "[encoded data removed]",
      "text/plain": [
       "<Figure size 640x480 with 1 Axes>"
      ]
     },
     "metadata": {},
     "output_type": "display_data"
    }
   ],
   "source": [
    "# plot a box plot of budget\n",
    "\n",
    "plt.boxplot(d1['budget'])\n",
    "plt.grid()\n",
    "plt.show()"
   ]
  },
  {
   "cell_type": "code",
   "execution_count": 18,
   "id": "34183c06",
   "metadata": {},
   "outputs": [
    {
     "data": {
      "image/png": "[encoded data removed]",
      "text/plain": [
       "<Figure size 640x480 with 1 Axes>"
      ]
     },
     "metadata": {},
     "output_type": "display_data"
    }
   ],
   "source": [
    "plt.boxplot(d1['Gross'])\n",
    "plt.grid()\n",
    "plt.show()"
   ]
  },
  {
   "cell_type": "code",
   "execution_count": 19,
   "id": "2e4c7ef1",
   "metadata": {},
   "outputs": [
    {
     "data": {
      "text/plain": [
       "count    100.000000\n",
       "mean     146.867867\n",
       "std      145.400370\n",
       "min        0.223838\n",
       "25%       41.997524\n",
       "50%      107.026591\n",
       "75%      210.754845\n",
       "max      936.662225\n",
       "Name: Gross, dtype: float64"
      ]
     },
     "execution_count": 19,
     "metadata": {},
     "output_type": "execute_result"
    }
   ],
   "source": [
    "d1['Gross'].describe()"
   ]
  },
  {
   "cell_type": "code",
   "execution_count": null,
   "id": "4912cf92",
   "metadata": {},
   "outputs": [],
   "source": [
    "# stack bar chart"
   ]
  },
  {
   "cell_type": "code",
   "execution_count": 22,
   "id": "a330412e",
   "metadata": {},
   "outputs": [
    {
     "data": {
      "text/html": [
       "<div>\n",
       "<style scoped>\n",
       "    .dataframe tbody tr th:only-of-type {\n",
       "        vertical-align: middle;\n",
       "    }\n",
       "\n",
       "    .dataframe tbody tr th {\n",
       "        vertical-align: top;\n",
       "    }\n",
       "\n",
       "    .dataframe thead th {\n",
       "        text-align: right;\n",
       "    }\n",
       "</style>\n",
       "<table border=\"1\" class=\"dataframe\">\n",
       "  <thead>\n",
       "    <tr style=\"text-align: right;\">\n",
       "      <th></th>\n",
       "      <th>budget</th>\n",
       "      <th>profit</th>\n",
       "    </tr>\n",
       "    <tr>\n",
       "      <th>genre</th>\n",
       "      <th></th>\n",
       "      <th></th>\n",
       "    </tr>\n",
       "  </thead>\n",
       "  <tbody>\n",
       "    <tr>\n",
       "      <th>Action</th>\n",
       "      <td>130.351852</td>\n",
       "      <td>109.681664</td>\n",
       "    </tr>\n",
       "    <tr>\n",
       "      <th>Adventure</th>\n",
       "      <td>103.500000</td>\n",
       "      <td>50.094821</td>\n",
       "    </tr>\n",
       "    <tr>\n",
       "      <th>Animation</th>\n",
       "      <td>148.654545</td>\n",
       "      <td>90.472442</td>\n",
       "    </tr>\n",
       "    <tr>\n",
       "      <th>Biography</th>\n",
       "      <td>30.307692</td>\n",
       "      <td>51.766971</td>\n",
       "    </tr>\n",
       "    <tr>\n",
       "      <th>Comedy</th>\n",
       "      <td>15.555556</td>\n",
       "      <td>37.693860</td>\n",
       "    </tr>\n",
       "    <tr>\n",
       "      <th>Crime</th>\n",
       "      <td>32.944444</td>\n",
       "      <td>34.133466</td>\n",
       "    </tr>\n",
       "    <tr>\n",
       "      <th>Drama</th>\n",
       "      <td>29.511111</td>\n",
       "      <td>51.292340</td>\n",
       "    </tr>\n",
       "    <tr>\n",
       "      <th>Mystery</th>\n",
       "      <td>80.000000</td>\n",
       "      <td>47.968405</td>\n",
       "    </tr>\n",
       "  </tbody>\n",
       "</table>\n",
       "</div>"
      ],
      "text/plain": [
       "               budget      profit\n",
       "genre                            \n",
       "Action     130.351852  109.681664\n",
       "Adventure  103.500000   50.094821\n",
       "Animation  148.654545   90.472442\n",
       "Biography   30.307692   51.766971\n",
       "Comedy      15.555556   37.693860\n",
       "Crime       32.944444   34.133466\n",
       "Drama       29.511111   51.292340\n",
       "Mystery     80.000000   47.968405"
      ]
     },
     "execution_count": 22,
     "metadata": {},
     "output_type": "execute_result"
    }
   ],
   "source": [
    "# plot budget vs profit on a stacked area chart\n",
    "\n",
    "r1=d1.groupby('genre_1')[['budget','profit']].mean()\n",
    "r1.index.names=['genre']\n",
    "r1"
   ]
  },
  {
   "cell_type": "code",
   "execution_count": 25,
   "id": "c90a29f3",
   "metadata": {},
   "outputs": [
    {
     "data": {
      "image/png": "[encoded data removed]",
      "text/plain": [
       "<Figure size 640x480 with 1 Axes>"
      ]
     },
     "metadata": {},
     "output_type": "display_data"
    }
   ],
   "source": [
    "plt.bar(r1.index,r1['budget'],color='cyan',label='mean budget')\n",
    "plt.bar(r1.index,r1['profit'],color='orange',label='mean profit',bottom=r1['profit'])\n",
    "plt.xlabel('region')\n",
    "plt.legend()\n",
    "plt.title('genre wise budget and profit')\n",
    "plt.xticks(rotation=90)\n",
    "plt.grid()\n",
    "plt.ylim(0,280)\n",
    "plt.show()"
   ]
  },
  {
   "cell_type": "code",
   "execution_count": 27,
   "id": "12f370de",
   "metadata": {},
   "outputs": [
    {
     "data": {
      "text/html": [
       "<div>\n",
       "<style scoped>\n",
       "    .dataframe tbody tr th:only-of-type {\n",
       "        vertical-align: middle;\n",
       "    }\n",
       "\n",
       "    .dataframe tbody tr th {\n",
       "        vertical-align: top;\n",
       "    }\n",
       "\n",
       "    .dataframe thead th {\n",
       "        text-align: right;\n",
       "    }\n",
       "</style>\n",
       "<table border=\"1\" class=\"dataframe\">\n",
       "  <thead>\n",
       "    <tr style=\"text-align: right;\">\n",
       "      <th></th>\n",
       "      <th>budget</th>\n",
       "      <th>profit</th>\n",
       "    </tr>\n",
       "    <tr>\n",
       "      <th>genre</th>\n",
       "      <th></th>\n",
       "      <th></th>\n",
       "    </tr>\n",
       "  </thead>\n",
       "  <tbody>\n",
       "    <tr>\n",
       "      <th>Action</th>\n",
       "      <td>130.351852</td>\n",
       "      <td>109.681664</td>\n",
       "    </tr>\n",
       "    <tr>\n",
       "      <th>Adventure</th>\n",
       "      <td>103.500000</td>\n",
       "      <td>50.094821</td>\n",
       "    </tr>\n",
       "    <tr>\n",
       "      <th>Animation</th>\n",
       "      <td>148.654545</td>\n",
       "      <td>90.472442</td>\n",
       "    </tr>\n",
       "    <tr>\n",
       "      <th>Biography</th>\n",
       "      <td>30.307692</td>\n",
       "      <td>51.766971</td>\n",
       "    </tr>\n",
       "    <tr>\n",
       "      <th>Comedy</th>\n",
       "      <td>15.555556</td>\n",
       "      <td>37.693860</td>\n",
       "    </tr>\n",
       "    <tr>\n",
       "      <th>Crime</th>\n",
       "      <td>32.944444</td>\n",
       "      <td>34.133466</td>\n",
       "    </tr>\n",
       "    <tr>\n",
       "      <th>Drama</th>\n",
       "      <td>29.511111</td>\n",
       "      <td>51.292340</td>\n",
       "    </tr>\n",
       "    <tr>\n",
       "      <th>Mystery</th>\n",
       "      <td>80.000000</td>\n",
       "      <td>47.968405</td>\n",
       "    </tr>\n",
       "  </tbody>\n",
       "</table>\n",
       "</div>"
      ],
      "text/plain": [
       "               budget      profit\n",
       "genre                            \n",
       "Action     130.351852  109.681664\n",
       "Adventure  103.500000   50.094821\n",
       "Animation  148.654545   90.472442\n",
       "Biography   30.307692   51.766971\n",
       "Comedy      15.555556   37.693860\n",
       "Crime       32.944444   34.133466\n",
       "Drama       29.511111   51.292340\n",
       "Mystery     80.000000   47.968405"
      ]
     },
     "execution_count": 27,
     "metadata": {},
     "output_type": "execute_result"
    }
   ],
   "source": [
    "r1"
   ]
  },
  {
   "cell_type": "code",
   "execution_count": 26,
   "id": "1a5dc8ad",
   "metadata": {},
   "outputs": [
    {
     "data": {
      "image/png": "[encoded data removed]",
      "text/plain": [
       "<Figure size 640x480 with 1 Axes>"
      ]
     },
     "metadata": {},
     "output_type": "display_data"
    }
   ],
   "source": [
    "r1.plot(kind='bar',stacked=True)\n",
    "plt.show()"
   ]
  },
  {
   "cell_type": "code",
   "execution_count": 30,
   "id": "60e0cbd3",
   "metadata": {},
   "outputs": [
    {
     "data": {
      "image/png": "[encoded data removed]",
      "text/plain": [
       "<Figure size 640x480 with 1 Axes>"
      ]
     },
     "metadata": {},
     "output_type": "display_data"
    }
   ],
   "source": [
    "#stacked area chart\n",
    "plt.stackplot(r1.index,r1['budget'],r1['profit'],labels=['budget','profit'])\n",
    "plt.xlabel('Genre1')\n",
    "plt.xticks(rotation=90)\n",
    "plt.show()"
   ]
  },
  {
   "cell_type": "code",
   "execution_count": 44,
   "id": "9a1da737",
   "metadata": {},
   "outputs": [
    {
     "data": {
      "text/html": [
       "<div>\n",
       "<style scoped>\n",
       "    .dataframe tbody tr th:only-of-type {\n",
       "        vertical-align: middle;\n",
       "    }\n",
       "\n",
       "    .dataframe tbody tr th {\n",
       "        vertical-align: top;\n",
       "    }\n",
       "\n",
       "    .dataframe thead th {\n",
       "        text-align: right;\n",
       "    }\n",
       "</style>\n",
       "<table border=\"1\" class=\"dataframe\">\n",
       "  <thead>\n",
       "    <tr style=\"text-align: right;\">\n",
       "      <th></th>\n",
       "      <th>budget</th>\n",
       "      <th>Gross</th>\n",
       "      <th>profit</th>\n",
       "    </tr>\n",
       "    <tr>\n",
       "      <th>Genre</th>\n",
       "      <th></th>\n",
       "      <th></th>\n",
       "      <th></th>\n",
       "    </tr>\n",
       "  </thead>\n",
       "  <tbody>\n",
       "    <tr>\n",
       "      <th>Action</th>\n",
       "      <td>130.351852</td>\n",
       "      <td>240.033516</td>\n",
       "      <td>109.681664</td>\n",
       "    </tr>\n",
       "    <tr>\n",
       "      <th>Adventure</th>\n",
       "      <td>103.500000</td>\n",
       "      <td>153.594821</td>\n",
       "      <td>50.094821</td>\n",
       "    </tr>\n",
       "    <tr>\n",
       "      <th>Animation</th>\n",
       "      <td>148.654545</td>\n",
       "      <td>239.126987</td>\n",
       "      <td>90.472442</td>\n",
       "    </tr>\n",
       "    <tr>\n",
       "      <th>Biography</th>\n",
       "      <td>30.307692</td>\n",
       "      <td>82.074664</td>\n",
       "      <td>51.766971</td>\n",
       "    </tr>\n",
       "    <tr>\n",
       "      <th>Comedy</th>\n",
       "      <td>15.555556</td>\n",
       "      <td>53.249416</td>\n",
       "      <td>37.693860</td>\n",
       "    </tr>\n",
       "    <tr>\n",
       "      <th>Crime</th>\n",
       "      <td>32.944444</td>\n",
       "      <td>67.077910</td>\n",
       "      <td>34.133466</td>\n",
       "    </tr>\n",
       "    <tr>\n",
       "      <th>Drama</th>\n",
       "      <td>29.511111</td>\n",
       "      <td>80.803451</td>\n",
       "      <td>51.292340</td>\n",
       "    </tr>\n",
       "    <tr>\n",
       "      <th>Mystery</th>\n",
       "      <td>80.000000</td>\n",
       "      <td>127.968405</td>\n",
       "      <td>47.968405</td>\n",
       "    </tr>\n",
       "  </tbody>\n",
       "</table>\n",
       "</div>"
      ],
      "text/plain": [
       "               budget       Gross      profit\n",
       "Genre                                        \n",
       "Action     130.351852  240.033516  109.681664\n",
       "Adventure  103.500000  153.594821   50.094821\n",
       "Animation  148.654545  239.126987   90.472442\n",
       "Biography   30.307692   82.074664   51.766971\n",
       "Comedy      15.555556   53.249416   37.693860\n",
       "Crime       32.944444   67.077910   34.133466\n",
       "Drama       29.511111   80.803451   51.292340\n",
       "Mystery     80.000000  127.968405   47.968405"
      ]
     },
     "execution_count": 44,
     "metadata": {},
     "output_type": "execute_result"
    }
   ],
   "source": [
    "r2=d1.groupby(['genre_1'])[['budget','Gross','profit']].mean()\n",
    "r2.index.names=[\"Genre\"]\n",
    "r2"
   ]
  },
  {
   "cell_type": "code",
   "execution_count": 46,
   "id": "8ce9a300",
   "metadata": {},
   "outputs": [
    {
     "data": {
      "image/png": "[encoded data removed]",
      "text/plain": [
       "<Figure size 640x480 with 1 Axes>"
      ]
     },
     "metadata": {},
     "output_type": "display_data"
    }
   ],
   "source": [
    "plt.stackplot(r2.index,r2['budget'],r2['Gross'],r2['profit'],\n",
    "labels=['budget','Gross','profit'])\n",
    "plt.xlabel('Genre')\n",
    "plt.xticks(rotation=90)\n",
    "plt.legend()\n",
    "plt.show()"
   ]
  },
  {
   "cell_type": "code",
   "execution_count": null,
   "id": "1371d587",
   "metadata": {},
   "outputs": [],
   "source": []
  }
 ],
 "metadata": {
  "kernelspec": {
   "display_name": "Python 3 (ipykernel)",
   "language": "python",
   "name": "python3"
  },
  "language_info": {
   "codemirror_mode": {
    "name": "ipython",
    "version": 3
   },
   "file_extension": ".py",
   "mimetype": "text/x-python",
   "name": "python",
   "nbconvert_exporter": "python",
   "pygments_lexer": "ipython3",
   "version": "3.10.9"
  }
 },
 "nbformat": 4,
 "nbformat_minor": 5
}
